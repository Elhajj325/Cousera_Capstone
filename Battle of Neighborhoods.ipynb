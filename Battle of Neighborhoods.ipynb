{
    "cells": [
        {
            "cell_type": "markdown",
            "metadata": {
                "collapsed": true
            },
            "source": "## Introduction"
        },
        {
            "cell_type": "markdown",
            "metadata": {},
            "source": "##### for the past few months, cases of corona viruse seems to be on the rise and the number of death recorded is also on the rise. this is partly due to the lack of health facilities to tackle the problem at hand. most at times, the facilities are far away from people having symptoms of this covid 19 and so they dont get the chance to even go the nearest facility to get tested or treated. the few facilities available are overwermed from to many patients and lack of haelth care personnel. the problem we are going to address here is where to setup treatment centres or isolation centres in each neighborhood. so that people who are experiencing symptoms could get to the nearest facility faster nad not feel reluctant to go for treatment. The target audience for this project are government agencies, NGOs and coporate organisation who are going to be willing to fund the project."
        },
        {
            "cell_type": "markdown",
            "metadata": {},
            "source": "## Data Capturing"
        },
        {
            "cell_type": "markdown",
            "metadata": {},
            "source": "##### we would be using the foursquare location data to identify places like hospitals in each neighborhood and hotels which can be converted to isolation and treatment centre.  I will then be utilising foursquare to retrieve the hospitals and hotels, then again to retrieve the ratings. I will mainly be creating dataframes from a source which I will then manipulate so that they are then usable with the next data source. "
        },
        {
            "cell_type": "code",
            "execution_count": null,
            "metadata": {},
            "outputs": [],
            "source": ""
        }
    ],
    "metadata": {
        "kernelspec": {
            "display_name": "Python 3.6",
            "language": "python",
            "name": "python3"
        },
        "language_info": {
            "codemirror_mode": {
                "name": "ipython",
                "version": 3
            },
            "file_extension": ".py",
            "mimetype": "text/x-python",
            "name": "python",
            "nbconvert_exporter": "python",
            "pygments_lexer": "ipython3",
            "version": "3.6.9"
        }
    },
    "nbformat": 4,
    "nbformat_minor": 1
}